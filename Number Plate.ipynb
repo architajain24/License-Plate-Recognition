{
  "cells": [
    {
      "cell_type": "code",
      "execution_count": 2,
      "metadata": {},
      "outputs": [
        {
          "ename": "error",
          "evalue": "OpenCV(4.9.0) D:\\a\\opencv-python\\opencv-python\\opencv\\modules\\highgui\\src\\window.cpp:1272: error: (-2:Unspecified error) The function is not implemented. Rebuild the library with Windows, GTK+ 2.x or Cocoa support. If you are on Ubuntu or Debian, install libgtk2.0-dev and pkg-config, then re-run cmake or configure script in function 'cvShowImage'\n",
          "output_type": "error",
          "traceback": [
            "\u001b[1;31m---------------------------------------------------------------------------\u001b[0m",
            "\u001b[1;31merror\u001b[0m                                     Traceback (most recent call last)",
            "Cell \u001b[1;32mIn[2], line 31\u001b[0m\n\u001b[0;32m     28\u001b[0m         img_roi \u001b[38;5;241m=\u001b[39m img[y: y\u001b[38;5;241m+\u001b[39mh, x:x\u001b[38;5;241m+\u001b[39mw]\n\u001b[0;32m     29\u001b[0m         cv2\u001b[38;5;241m.\u001b[39mimshow(\u001b[38;5;124m\"\u001b[39m\u001b[38;5;124mROI\u001b[39m\u001b[38;5;124m\"\u001b[39m, img_roi)\n\u001b[1;32m---> 31\u001b[0m \u001b[43mcv2\u001b[49m\u001b[38;5;241;43m.\u001b[39;49m\u001b[43mimshow\u001b[49m\u001b[43m(\u001b[49m\u001b[38;5;124;43m\"\u001b[39;49m\u001b[38;5;124;43mResult\u001b[39;49m\u001b[38;5;124;43m\"\u001b[39;49m\u001b[43m,\u001b[49m\u001b[43m \u001b[49m\u001b[43mimg\u001b[49m\u001b[43m)\u001b[49m\n\u001b[0;32m     33\u001b[0m key \u001b[38;5;241m=\u001b[39m cv2\u001b[38;5;241m.\u001b[39mwaitKey(\u001b[38;5;241m1\u001b[39m)\n\u001b[0;32m     35\u001b[0m \u001b[38;5;28;01mif\u001b[39;00m key \u001b[38;5;241m==\u001b[39m \u001b[38;5;28mord\u001b[39m(\u001b[38;5;124m'\u001b[39m\u001b[38;5;124ms\u001b[39m\u001b[38;5;124m'\u001b[39m): \u001b[38;5;66;03m# Save image when 's' is pressed\u001b[39;00m\n",
            "\u001b[1;31merror\u001b[0m: OpenCV(4.9.0) D:\\a\\opencv-python\\opencv-python\\opencv\\modules\\highgui\\src\\window.cpp:1272: error: (-2:Unspecified error) The function is not implemented. Rebuild the library with Windows, GTK+ 2.x or Cocoa support. If you are on Ubuntu or Debian, install libgtk2.0-dev and pkg-config, then re-run cmake or configure script in function 'cvShowImage'\n"
          ]
        }
      ],
      "source": [
        "import cv2\n",
        "\n",
        "harcascade = \"model/haarcascade_russian_plate_number.xml\"\n",
        "\n",
        "cap = cv2.VideoCapture(0)\n",
        "\n",
        "cap.set(3, 640) # width\n",
        "cap.set(4, 480) # height\n",
        "\n",
        "min_area = 500\n",
        "count = 0\n",
        "\n",
        "while True:\n",
        "    success, img = cap.read()\n",
        "\n",
        "    plate_cascade = cv2.CascadeClassifier(harcascade)\n",
        "    img_gray = cv2.cvtColor(img, cv2.COLOR_BGR2GRAY)\n",
        "\n",
        "    plates = plate_cascade.detectMultiScale(img_gray, 1.1, 4)\n",
        "\n",
        "    for (x, y, w, h) in plates:\n",
        "        area = w * h\n",
        "\n",
        "        if area > min_area:\n",
        "            cv2.rectangle(img, (x, y), (x+w, y+h), (0, 255, 0), 2)\n",
        "            cv2.putText(img, \"Number Plate\", (x, y-5), cv2.FONT_HERSHEY_COMPLEX_SMALL, 1, (255, 0, 255), 2)\n",
        "\n",
        "            img_roi = img[y: y+h, x:x+w]\n",
        "            cv2.imshow(\"ROI\", img_roi)\n",
        "\n",
        "    cv2.imshow(\"Result\", img)\n",
        "\n",
        "    key = cv2.waitKey(1)\n",
        "    \n",
        "    if key == ord('s'): # Save image when 's' is pressed\n",
        "        cv2.imwrite(\"plates/scaned_img_\" + str(count) + \".jpg\", img_roi)\n",
        "        cv2.rectangle(img, (0, 200), (640, 300), (0, 255, 0), cv2.FILLED)\n",
        "        cv2.putText(img, \"Plate Saved\", (150, 265), cv2.FONT_HERSHEY_COMPLEX_SMALL, 2, (0, 0, 255), 2)\n",
        "        cv2.imshow(\"Results\", img)\n",
        "        cv2.waitKey(500)\n",
        "        count += 1\n",
        "    elif key == ord('q'): # Quit when 'q' is pressed\n",
        "        break\n",
        "\n",
        "cap.release()\n",
        "cv2.destroyAllWindows()"
      ]
    },
    {
      "cell_type": "code",
      "execution_count": null,
      "metadata": {
        "id": "6wKgPU52CZ6K"
      },
      "outputs": [
        {
          "name": "stderr",
          "output_type": "stream",
          "text": [
            "Neither CUDA nor MPS are available - defaulting to CPU. Note: This module is much faster with a GPU.\n"
          ]
        },
        {
          "name": "stdout",
          "output_type": "stream",
          "text": [
            "[([[27, 49], [53, 49], [53, 65], [27, 65]], 'IND', 0.848502181774346), ([[45, 28], [296, 28], [296, 84], [45, 84]], 'RJiLcv0002', 0.2626756313456915)]\n"
          ]
        }
      ],
      "source": [
        "import matplotlib.pyplot as plt\n",
        "import cv2\n",
        "import easyocr\n",
        "from IPython.display import Image\n",
        "\n",
        "reader = easyocr.Reader(['en'])\n",
        "\n",
        "output = reader.readtext('plates\\\\scaned_img_0.jpg')\n",
        "\n",
        "print(output)"
      ]
    },
    {
      "cell_type": "code",
      "execution_count": null,
      "metadata": {},
      "outputs": [
        {
          "ename": "SyntaxError",
          "evalue": "invalid syntax (1924436510.py, line 11)",
          "output_type": "error",
          "traceback": [
            "\u001b[1;36m  Cell \u001b[1;32mIn[3], line 11\u001b[1;36m\u001b[0m\n\u001b[1;33m    def read_number_plate_data(number_plate_data.xlsx):\u001b[0m\n\u001b[1;37m                                                ^\u001b[0m\n\u001b[1;31mSyntaxError\u001b[0m\u001b[1;31m:\u001b[0m invalid syntax\n"
          ]
        }
      ],
      "source": [
        "import cv2\n",
        "import easyocr\n",
        "import pandas as pd\n",
        "\n",
        "harcascade = \"model/haarcascade_russian_plate_number.xml\"\n",
        "\n",
        "# Initialize EasyOCR reader\n",
        "reader = easyocr.Reader(['en'])\n",
        "\n",
        "# Read number plate data from Excel file\n",
        "def read_number_plate_data(number_plate_data.xlsx):\n",
        "    df = pd.read_excel(number_plate_data.xlsx)\n",
        "    return df['Number Plate'].tolist()\n",
        "\n",
        "# Compare extracted plate number with data from Excel file\n",
        "def compare_plate_number(extracted_plate_number, number_plate_data):\n",
        "    if extracted_plate_number in number_plate_data:\n",
        "        print(\"It's a match\")\n",
        "    else:\n",
        "        print(\"It's not a match\")\n",
        "\n",
        "excel_file_path = r\"F:\\Codes\\Python\\Number_Plate_Recognitiom\\number_plate_data.xlsx\"\n",
        "\n",
        "# Read number plate data from Excel file\n",
        "number_plate_data = read_number_plate_data(number_plate_data.xlsx)\n",
        "\n",
        "cap = cv2.VideoCapture(0)\n",
        "\n",
        "cap.set(3, 640) # width\n",
        "cap.set(4, 480) # height\n",
        "\n",
        "min_area = 500\n",
        "count = 0\n",
        "\n",
        "while True:\n",
        "    success, img = cap.read()\n",
        "\n",
        "    plate_cascade = cv2.CascadeClassifier(harcascade)\n",
        "    img_gray = cv2.cvtColor(img, cv2.COLOR_BGR2GRAY)\n",
        "\n",
        "    plates = plate_cascade.detectMultiScale(img_gray, 1.1, 4)\n",
        "\n",
        "    for (x, y, w, h) in plates:\n",
        "        area = w * h\n",
        "\n",
        "        if area > min_area:\n",
        "            cv2.rectangle(img, (x, y), (x+w, y+h), (0, 255, 0), 2)\n",
        "            cv2.putText(img, \"Number Plate\", (x, y-5), cv2.FONT_HERSHEY_COMPLEX_SMALL, 1, (255, 0, 255), 2)\n",
        "\n",
        "            img_roi = img[y: y+h, x:x+w]\n",
        "            cv2.imshow(\"ROI\", img_roi)\n",
        "\n",
        "            # Save the extracted plate image\n",
        "            cv2.imwrite(\"plates/scaned_img_\" + str(count) + \".jpg\", img_roi)\n",
        "            count += 1\n",
        "\n",
        "            # Use EasyOCR to read the text from the plate image\n",
        "            output = reader.readtext('plates/scaned_img_' + str(count - 1) + '.jpg')\n",
        "            extracted_plate_number = output[0][1]  # Extracted plate number from OCR result\n",
        "\n",
        "            # Compare extracted plate number with data from Excel file\n",
        "            compare_plate_number(extracted_plate_number, number_plate_data)\n",
        "\n",
        "    cv2.imshow(\"Result\", img)\n",
        "\n",
        "    key = cv2.waitKey(1)\n",
        "    \n",
        "    if key == ord('q'): # Quit when 'q' is pressed\n",
        "        break\n",
        "\n",
        "cap.release()\n",
        "cv2.destroyAllWindows()"
      ]
    }
  ],
  "metadata": {
    "accelerator": "GPU",
    "colab": {
      "provenance": []
    },
    "kernelspec": {
      "display_name": "Python 3",
      "name": "python3"
    },
    "language_info": {
      "codemirror_mode": {
        "name": "ipython",
        "version": 3
      },
      "file_extension": ".py",
      "mimetype": "text/x-python",
      "name": "python",
      "nbconvert_exporter": "python",
      "pygments_lexer": "ipython3",
      "version": "3.12.2"
    }
  },
  "nbformat": 4,
  "nbformat_minor": 0
}
